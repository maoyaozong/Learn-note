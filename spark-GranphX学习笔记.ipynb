{
 "cells": [
  {
   "cell_type": "markdown",
   "metadata": {},
   "source": [
    "研究网络中各个节点的重要程度；发现网络的聚类结构；\n",
    "\n",
    "有环图上设计算法需要考虑终止条件，否则算法可能会沿着环永远循环下去；\n",
    "\n",
    "Graphx的图都是属性图；\n",
    "\n",
    "二分图可用于交友网站，源顶点来自男性集合，目标顶点来自女性集合。二分图也可以用于推荐系统，源顶点来自用户，目标顶点来自商品；\n",
    "\n",
    "在Graphx中，用顶点属性表VertexRDD和边属性表EdgeRDD联合来表示图。\n"
   ]
  },
  {
   "cell_type": "code",
   "execution_count": null,
   "metadata": {},
   "outputs": [],
   "source": [
    "// 创建VertexRDD，注意VertexId必须是Long类型\n",
    "val users: RDD[(VertexId, (String, String))] =\n",
    "  sc.parallelize(Array((3L, (\"rxin\", \"student\")), (7L, (\"jgonzal\", \"postdoc\")),\n",
    "                       (5L, (\"franklin\", \"prof\")), (2L, (\"istoica\", \"prof\"))))\n",
    "\n",
    "// 创建EdgeRDD\n",
    "val relationships: RDD[Edge[String]] =\n",
    "  sc.parallelize(Array(Edge(3L, 7L, \"collab\"),    Edge(5L, 3L, \"advisor\"),\n",
    "                       Edge(2L, 5L, \"colleague\"), Edge(5L, 7L, \"pi\")))\n",
    "\n",
    "// 设置缺失顶点\n",
    "val defaultUser = (\"John Doe\", \"Missing\")\n",
    "\n",
    "// 使用apply构造函数创建图\n",
    "val graph_user:Graph[(String, String), String] = Graph(users, relationships, defaultUser)\n",
    "\n",
    "//查看图的部分数据，triplets同时存储了边属性信息和对应顶点属性信息。\n",
    "graph_user.triplets.take(5).foreach(println)\n",
    "\n",
    "// 在用的时候不一定是点和边都构造好，也可以从边上进行构造\n",
    "val graph_distance = Graph.fromEdges(sc.makeRDD(\n",
    "    Array(Edge(1L,2L,10.0),Edge(1L,2L,3.0),\n",
    "         Edge(2L,3L,5.0),Edge(2L,3L,7.0),\n",
    "         Edge(1L,4L,2.0))),1).partitionBy(PartitionStrategy.RandomVertexCut,4)"
   ]
  },
  {
   "cell_type": "markdown",
   "metadata": {},
   "source": [
    "#### Graph的各种接口方法的签名如下所示，大概有9组30多个方法。"
   ]
  },
  {
   "cell_type": "code",
   "execution_count": null,
   "metadata": {},
   "outputs": [],
   "source": [
    "class Graph[VD, ED] {\n",
    "    \n",
    "  // 1，图的信息 \n",
    "  val numEdges: Long\n",
    "  val numVertices: Long\n",
    "  val inDegrees: VertexRDD[Int]\n",
    "  val outDegrees: VertexRDD[Int]\n",
    "  val degrees: VertexRDD[Int]\n",
    "\n",
    "  // 2，图的视图 \n",
    "  val vertices: VertexRDD[VD]\n",
    "  val edges: EdgeRDD[ED]\n",
    "  val triplets: RDD[EdgeTriplet[VD, ED]]\n",
    "\n",
    "  // 3，图的缓存和分区\n",
    "  def persist(newLevel: StorageLevel = StorageLevel.MEMORY_ONLY): Graph[VD, ED]\n",
    "  def cache(): Graph[VD, ED]\n",
    "  def unpersistVertices(blocking: Boolean = true): Graph[VD, ED]\n",
    "  def partitionBy(partitionStrategy: PartitionStrategy): Graph[VD, ED]\n",
    "\n",
    "  // 4，修改属性创建新图 \n",
    "  def mapVertices[VD2](map: (VertexId, VD) => VD2): Graph[VD2, ED]\n",
    "  def mapEdges[ED2](map: Edge[ED] => ED2): Graph[VD, ED2]\n",
    "  def mapEdges[ED2](map: (PartitionID, Iterator[Edge[ED]]) => Iterator[ED2]): Graph[VD, ED2]\n",
    "  def mapTriplets[ED2](map: EdgeTriplet[VD, ED] => ED2): Graph[VD, ED2]\n",
    "  def mapTriplets[ED2](map: (PartitionID, Iterator[EdgeTriplet[VD, ED]]) => Iterator[ED2])\n",
    "    : Graph[VD, ED2]\n",
    "\n",
    "  // 5，修改图结构创建新图 \n",
    "  def reverse: Graph[VD, ED]\n",
    "  def subgraph(\n",
    "      epred: EdgeTriplet[VD,ED] => Boolean = (x => true),\n",
    "      vpred: (VertexId, VD) => Boolean = ((v, d) => true))\n",
    "    : Graph[VD, ED]\n",
    "  def mask[VD2, ED2](other: Graph[VD2, ED2]): Graph[VD, ED]\n",
    "  def groupEdges(merge: (ED, ED) => ED): Graph[VD, ED]\n",
    "    \n",
    "  // 6，连接其它RDD\n",
    "  def joinVertices[U](table: RDD[(VertexId, U)])(mapFunc: (VertexId, VD, U) => VD): Graph[VD, ED]\n",
    "  def outerJoinVertices[U, VD2](other: RDD[(VertexId, U)])\n",
    "      (mapFunc: (VertexId, VD, Option[U]) => VD2)\n",
    "    : Graph[VD2, ED]\n",
    "    \n",
    "  // 7，收集邻居消息\n",
    "  def collectNeighborIds(edgeDirection: EdgeDirection): VertexRDD[Array[VertexId]]\n",
    "  def collectNeighbors(edgeDirection: EdgeDirection): VertexRDD[Array[(VertexId, VD)]]\n",
    "  def aggregateMessages[Msg: ClassTag](\n",
    "      sendMsg: EdgeContext[VD, ED, Msg] => Unit,\n",
    "      mergeMsg: (Msg, Msg) => Msg,\n",
    "      tripletFields: TripletFields = TripletFields.All)\n",
    "    : VertexRDD[A]\n",
    "    \n",
    "  // 8，pregel迭代接口 \n",
    "  def pregel[A](initialMsg: A, maxIterations: Int, activeDirection: EdgeDirection)(\n",
    "      vprog: (VertexId, VD, A) => VD,\n",
    "      sendMsg: EdgeTriplet[VD, ED] => Iterator[(VertexId,A)],\n",
    "      mergeMsg: (A, A) => A)\n",
    "    : Graph[VD, ED]\n",
    "    \n",
    "  // 9，内置常用图算法\n",
    "  def pageRank(tol: Double, resetProb: Double = 0.15): Graph[Double, Double]\n",
    "  def connectedComponents(): Graph[VertexId, ED]\n",
    "  def triangleCount(): Graph[Int, ED]\n",
    "  def stronglyConnectedComponents(numIter: Int): Graph[VertexId, ED]\n",
    "}"
   ]
  },
  {
   "cell_type": "markdown",
   "metadata": {},
   "source": [
    "edges和vertices必须至少包括1个属性，如果没有，一般给每个顶点和边填充一个1作为属性；\n",
    "\n",
    "在实际应用的时候，可以给顶点和边的属性封装成为对象；\n",
    "\n",
    "triplets 代表的是三元组 （（起点，属性）， （终点，属性）， 边-属性）"
   ]
  },
  {
   "cell_type": "markdown",
   "metadata": {},
   "source": [
    "如果图要多次被使用，应当使用persist缓存进行。如果确认图不再用到，推荐使用unpersist清理缓存以减轻内存压力。\n",
    "\n",
    "如果设计迭代算法，推荐使用pregel迭代接口，它能够正确地释放不再使用的中间计算结果。"
   ]
  },
  {
   "cell_type": "markdown",
   "metadata": {},
   "source": [
    "修改属性创建新图，都是进行一次map操作后生成新的VertexRDD或EdgeRDD替换掉已有Graph的对应部分，得到新的Graph。"
   ]
  },
  {
   "cell_type": "code",
   "execution_count": null,
   "metadata": {},
   "outputs": [],
   "source": [
    "//如果边属性为\"is_friends_with\"，并且其源顶点属性中包含字母\"a\"，则添加属性值 true,否则添加属性值false。\n",
    "val newGraph = myGraph.mapTriplets(t => \n",
    "    (t.attr, t.attr==\"is-friends-with\"&&t.srcAttr.toLowerCase.contains(\"a\")))"
   ]
  },
  {
   "cell_type": "markdown",
   "metadata": {},
   "source": [
    "修改图结构创建新图\n",
    "\n",
    "这4个方法的作用简单总结如下：\n",
    "\n",
    "reverse最简单，将每条边的方向反向。\n",
    "\n",
    "subgraph过滤一些符合条件的边和顶点构造子图。\n",
    "\n",
    "mask返回和另外一个graph的公共子图\n",
    "\n",
    "groupEdges可以对平行边进行merge，但要求平行边位于相同的分区。"
   ]
  },
  {
   "cell_type": "code",
   "execution_count": null,
   "metadata": {},
   "outputs": [],
   "source": [
    "//groupEdges可以对平行边进行merge\n",
    "\n",
    "val graph_distance = Graph.fromEdges(sc.makeRDD(\n",
    "    Array(Edge(1L,2L,10.0),Edge(1L,2L,3.0),\n",
    "         Edge(2L,3L,5.0),Edge(2L,3L,7.0),\n",
    "         Edge(1L,4L,2.0))),1).partitionBy(PartitionStrategy.RandomVertexCut,4)\n",
    "\n",
    "graph_distance.triplets.collect.foreach(println)\n",
    "((1,1),(2,1),10.0)\n",
    "((1,1),(2,1),3.0)\n",
    "((1,1),(4,1),2.0)\n",
    "((2,1),(3,1),5.0)\n",
    "((2,1),(3,1),7.0)\n",
    "val graph_grouped = graph_distance.groupEdges((a,b)=> math.min(a,b))\n",
    "graph_grouped.triplets.collect.foreach(println)\n",
    "((1,1),(2,1),3.0)\n",
    "((1,1),(4,1),2.0)\n",
    "((2,1),(3,1),5.0)"
   ]
  },
  {
   "cell_type": "code",
   "execution_count": null,
   "metadata": {},
   "outputs": [],
   "source": [
    "连接其它RDD\n",
    "\n",
    "// joinVertices 不会修改点属性的类型\n",
    "val graph_distance = Graph.fromEdges(sc.makeRDD(\n",
    "    Array(Edge(1L,2L,10.0),Edge(1L,2L,3.0),\n",
    "         Edge(2L,3L,5.0),Edge(2L,3L,7.0),\n",
    "         Edge(1L,4L,2.0))),\"\").partitionBy(PartitionStrategy.RandomVertexCut,4)\n",
    "\n",
    "val rdd_city = sc.makeRDD(Array((1L,\"Beijing\"),(2L,\"Nanjing\"),(3L,\"Shanghai\"),(4L,\"Tianjing\")))\n",
    "\n",
    "val graph_join = graph_distance.joinVertices[String](rdd_city)((id,v,u) => u)\n",
    "graph_join.triplets.collect.foreach(println)\n",
    "\n",
    "((1,Beijing),(2,Nanjing),10.0)\n",
    "((1,Beijing),(2,Nanjing),3.0)\n",
    "((1,Beijing),(4,Tianjing),2.0)\n",
    "((2,Nanjing),(3,Shanghai),5.0)\n",
    "((2,Nanjing),(3,Shanghai),7.0)\n",
    "\n",
    "//outerJoinVertices 可以修改点属性的类型\n",
    "val rdd_gender = sc.makeRDD(Array((1L,\"female\"),(2L,\"male\"),(3L,\"male\"),(4L,\"female\")))\n",
    "val graph_outjoin = \n",
    "   myGraph.outerJoinVertices[String,(String,String)](rdd_gender)((id,v,opt)=>(v,opt.getOrElse(\" \")))\n",
    "graph_outjoin.triplets.collect.foreach(println)\n",
    "\n",
    "((1,(Ann,female)),(2,(Bill,male)),is-friends-with)\n",
    "((2,(Bill,male)),(3,(Charles,male)),is-friends-with)\n",
    "((3,(Charles,male)),(4,(Diane,female)),is-friends-with)\n",
    "((3,(Charles,male)),(5,(Went to gym this morning, )),wrote-status)\n",
    "((4,(Diane,female)),(5,(Went to gym this morning, )),like-status)"
   ]
  },
  {
   "cell_type": "markdown",
   "metadata": {},
   "source": [
    "aggregateMessages在图结构中实现了一个基本的map/reduce编程模型。\n",
    "\n",
    "sendMsg是map过程，每条边向其src或dst发送一个消息。其输入参数为EdgeContext类型。 EdgeContext类型比Triplet类型多了sendToSrc和sendToDst两个方法，用于发送消息。\n",
    "\n",
    "mergeMsg是reduce过程，每个顶点收集其收到的消息，并做合并处理。\n",
    "\n",
    "aggregateMessages的返回值是一个VetexRDD。\n",
    "\n",
    "使用aggregateMessages进行迭代的方法尽管已经非常简短了，但是其迭代过程中中间结果的缓存问题可能会给程序的性能造成影响。\n",
    "\n",
    "使用pregel迭代接口能够很好地进行缓存优化。"
   ]
  },
  {
   "cell_type": "markdown",
   "metadata": {},
   "source": [
    "内置图算法主要包括：\n",
    "\n",
    "PageRank: 可以由PageRank值衡量节点的重要程度，常用于网页排名，社区关键人物分析。\n",
    "\n",
    "personalizedPageRank: 个性化的PageRank值，可用于社交网站中推荐\"你可能认识的人\"。\n",
    "\n",
    "triangleCount: 三角形个数，可以衡量周围的节点的连通性，也可以用于衡量网络总体的联通性。\n",
    "\n",
    "ShortestPaths: 最小跳跃数，可以找到图中全部顶点和给定顶点的最小跳跃数。\n",
    "\n",
    "connectedComponents: 联通组件，可以在社交网络中找到社交圈子。\n",
    "\n",
    "stronglyConnectedComponents: 增强联通组件，针对有向图，可以找到社交圈子\n",
    "\n",
    "LabelPropagation: 标签传播算法，可以用于社区发现。但往往不收敛，不是特别推荐使用。"
   ]
  },
  {
   "cell_type": "markdown",
   "metadata": {},
   "source": [
    "个性化PageRank是 PageRank的一个变种，可以用于在社交网站中给用户推荐\"你可能认识的人\"。\n",
    "\n",
    "personalizedPageRank除了要设定一个迭代终止的条件，还要指定一个源顶点的srcId.\n",
    "\n",
    "如果是这样的话，在应用的时候有点傻逼，不可能遍历全部的源顶点"
   ]
  },
  {
   "cell_type": "markdown",
   "metadata": {},
   "source": [
    "connectedComponents\n",
    "\n",
    "connectedComponents连通组件会将图划分成几个连通区域，每个顶点的属性值为其所在连通区域中顶点编号的最小值。 connectedComponents的一种巧妙用法是用来在spark上实现DBSCAN算法，可以用它来对临时聚类簇进行合并。\n",
    "\n",
    "连通组件不关心边的方向。\n"
   ]
  },
  {
   "cell_type": "code",
   "execution_count": null,
   "metadata": {},
   "outputs": [],
   "source": [
    "\n",
    "val graph = Graph.fromEdgeTuples(sc.makeRDD(Array((1L,2L),(2L,3L),(3L,1L),(5L,5L),(6L,7L))),1)\n",
    "val graph_connected = graph.connectedComponents()\n",
    "graph_connected.vertices.collect\n",
    "Array((1,1), (5,5), (6,6), (2,1), (3,1), (7,6))\n",
    "graph_connected.vertices.map(t=>(t._2,Set(t._1))).reduceByKey((s1,s2)=>s1|s2).collect\n",
    "Array((1,Set(1, 2, 3)), (5,Set(5)), (6,Set(6, 7)))\n"
   ]
  },
  {
   "cell_type": "markdown",
   "metadata": {},
   "source": [
    "在一张图中可以让每个顶点有不同的属性， 对于用户和物品就可以生成二部图："
   ]
  },
  {
   "cell_type": "code",
   "execution_count": null,
   "metadata": {},
   "outputs": [],
   "source": [
    "class VertexProperty()\n",
    "case class UserProperty(val name: String) extends VertexProperty\n",
    "case class ProductProperty(val name: String, val price: Double) extends VertexProperty\n",
    "// The graph might then have the type:\n",
    "var graph: Graph[VertexProperty, String] = null"
   ]
  }
 ],
 "metadata": {
  "kernelspec": {
   "display_name": "Python 3",
   "language": "python",
   "name": "python3"
  },
  "language_info": {
   "codemirror_mode": {
    "name": "ipython",
    "version": 3
   },
   "file_extension": ".py",
   "mimetype": "text/x-python",
   "name": "python",
   "nbconvert_exporter": "python",
   "pygments_lexer": "ipython3",
   "version": "3.7.3"
  }
 },
 "nbformat": 4,
 "nbformat_minor": 2
}
